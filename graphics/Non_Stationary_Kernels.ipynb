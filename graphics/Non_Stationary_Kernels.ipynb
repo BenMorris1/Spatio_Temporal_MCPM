{
 "cells": [
  {
   "cell_type": "code",
   "execution_count": 12,
   "metadata": {},
   "outputs": [],
   "source": [
    "import numpy as np\n",
    "import tensorflow as tf\n",
    "from matplotlib import pyplot as plt\n",
    "from mpl_toolkits.mplot3d import Axes3D\n",
    "#from sklearn.gaussian_process import GaussianProcessRegressor\n",
    "#from sklearn.gaussian_process.kernels import RBF, RationalQuadratic, Matern, ExpSineSquared, Sum, Product\n",
    "\n",
    "import sys\n",
    "sys.path.append(\"..\")\n",
    "from mcpm.kernels import *\n",
    "\n",
    "np.random.seed(1)"
   ]
  },
  {
   "cell_type": "markdown",
   "metadata": {},
   "source": [
    "## Functions"
   ]
  },
  {
   "cell_type": "code",
   "execution_count": 2,
   "metadata": {},
   "outputs": [],
   "source": [
    "def gram_matrix(x1,x2,k):\n",
    "    init_op = tf.initialize_all_variables()\n",
    "    with tf.Session() as sess:\n",
    "        sess.run(init_op)\n",
    "        k = sess.run(k.kernel(x1,x2))\n",
    "    return k\n",
    "\n",
    "# GP function\n",
    "def GP(a , b, k, mu, kernel, samples) :\n",
    "    f = np.random.multivariate_normal(mu.flatten(), kernel(a, b, k) , samples)\n",
    "    return f"
   ]
  },
  {
   "cell_type": "markdown",
   "metadata": {},
   "source": [
    "## Create Input Data"
   ]
  },
  {
   "cell_type": "code",
   "execution_count": 8,
   "metadata": {},
   "outputs": [],
   "source": [
    "# Input data\n",
    "#x0 = np.zeros(1000).reshape(1000,1).astype('float32')\n",
    "#x = np.linspace(0,2,1000).reshape(-1,1).astype('float32')\n",
    "\n",
    "x1 = np.linspace(0.0,5.0,50)\n",
    "x2 = np.linspace(0.0,2.0,50)\n",
    "#x1,x2 = np.meshgrid(x1,x2)\n",
    "inputs = np.array([x1.flatten(),x2.flatten()]).astype('float32').T\n",
    "\n",
    "mean = np.zeros(50)"
   ]
  },
  {
   "cell_type": "markdown",
   "metadata": {},
   "source": [
    "## Non Stationary Gaussian Kernel"
   ]
  },
  {
   "cell_type": "code",
   "execution_count": 46,
   "metadata": {},
   "outputs": [],
   "source": [
    "# defining non-stationary gaussian kernel function\n",
    "def f1(x1,x2):\n",
    "    cov1 = np.cov(np.array([[x1,0],[x1,0]]))[0,0]\n",
    "    cov2 = np.cov(np.array([[x2,0],[x2,0]]))[0,0]\n",
    "    q = (np.abs(x1-x2))*(((cov1+cov2)/2)**(-1))*(np.abs(x1-x2))\n",
    "    sigma = (cov1**(1/4)*cov2**(1/4))/((cov1+cov2)**(1/2))\n",
    "    \n",
    "    return sigma*np.exp(-q)"
   ]
  },
  {
   "cell_type": "code",
   "execution_count": 47,
   "metadata": {},
   "outputs": [
    {
     "name": "stderr",
     "output_type": "stream",
     "text": [
      "C:\\Program Files\\Anaconda3\\lib\\site-packages\\ipykernel_launcher.py:5: RuntimeWarning: divide by zero encountered in double_scalars\n",
      "  \"\"\"\n",
      "C:\\Program Files\\Anaconda3\\lib\\site-packages\\ipykernel_launcher.py:5: RuntimeWarning: invalid value encountered in double_scalars\n",
      "  \"\"\"\n",
      "C:\\Program Files\\Anaconda3\\lib\\site-packages\\ipykernel_launcher.py:6: RuntimeWarning: invalid value encountered in double_scalars\n",
      "  \n"
     ]
    }
   ],
   "source": [
    "# generating the outputs\n",
    "outputs1 = np.zeros((x1.shape[0],x2.shape[0]))\n",
    "for i in range(x1.shape[0]):\n",
    "    for j in range(x2.shape[0]):\n",
    "        outputs1[i,j] = f1(x1[i],x2[j])"
   ]
  },
  {
   "cell_type": "markdown",
   "metadata": {},
   "source": [
    "## Non Stationary Rational Quadratic Kernel"
   ]
  },
  {
   "cell_type": "code",
   "execution_count": 48,
   "metadata": {},
   "outputs": [],
   "source": [
    "# defining non-stationary kernel function\n",
    "def f2(x1,x2):\n",
    "    cov1 = np.cov(np.array([[x1,0],[x1,0]]))[0,0]\n",
    "    cov2 = np.cov(np.array([[x2,0],[x2,0]]))[0,0]\n",
    "    q = (np.abs(x1-x2))*(((cov1+cov2)/2)**(-1))*(np.abs(x1-x2))\n",
    "    sigma = (cov1**(1/4)*cov2**(1/4))/((cov1+cov2)**(1/2))\n",
    "    \n",
    "    return sigma*(1/(1+q))"
   ]
  },
  {
   "cell_type": "code",
   "execution_count": 49,
   "metadata": {},
   "outputs": [
    {
     "name": "stderr",
     "output_type": "stream",
     "text": [
      "C:\\Program Files\\Anaconda3\\lib\\site-packages\\ipykernel_launcher.py:5: RuntimeWarning: divide by zero encountered in double_scalars\n",
      "  \"\"\"\n",
      "C:\\Program Files\\Anaconda3\\lib\\site-packages\\ipykernel_launcher.py:5: RuntimeWarning: invalid value encountered in double_scalars\n",
      "  \"\"\"\n",
      "C:\\Program Files\\Anaconda3\\lib\\site-packages\\ipykernel_launcher.py:6: RuntimeWarning: invalid value encountered in double_scalars\n",
      "  \n"
     ]
    }
   ],
   "source": [
    "# generating the outputs\n",
    "outputs2 = np.zeros((x1.shape[0],x2.shape[0]))\n",
    "for i in range(x1.shape[0]):\n",
    "    for j in range(x2.shape[0]):\n",
    "        outputs2[i,j] = f2(x1[i],x2[j])"
   ]
  },
  {
   "cell_type": "markdown",
   "metadata": {},
   "source": [
    "## Non Stationary Matern Kernel"
   ]
  },
  {
   "cell_type": "code",
   "execution_count": 50,
   "metadata": {},
   "outputs": [],
   "source": [
    "# defining non-stationary kernel function\n",
    "def f3(x1,x2):\n",
    "    cov1 = np.cov(np.array([[x1,0],[x1,0]]))[0,0]\n",
    "    cov2 = np.cov(np.array([[x2,0],[x2,0]]))[0,0]\n",
    "    q = (np.abs(x1-x2))*(((cov1+cov2)/2)**(-1))*(np.abs(x1-x2))\n",
    "    sigma = (cov1**(1/4)*cov2**(1/4))/((cov1+cov2)**(1/2))\n",
    "    \n",
    "    return sigma*(1 + np.sqrt(3)*(q))*np.exp(-np.sqrt(3)*(q))"
   ]
  },
  {
   "cell_type": "code",
   "execution_count": 51,
   "metadata": {},
   "outputs": [
    {
     "name": "stderr",
     "output_type": "stream",
     "text": [
      "C:\\Program Files\\Anaconda3\\lib\\site-packages\\ipykernel_launcher.py:5: RuntimeWarning: divide by zero encountered in double_scalars\n",
      "  \"\"\"\n",
      "C:\\Program Files\\Anaconda3\\lib\\site-packages\\ipykernel_launcher.py:5: RuntimeWarning: invalid value encountered in double_scalars\n",
      "  \"\"\"\n",
      "C:\\Program Files\\Anaconda3\\lib\\site-packages\\ipykernel_launcher.py:6: RuntimeWarning: invalid value encountered in double_scalars\n",
      "  \n"
     ]
    }
   ],
   "source": [
    "# generating the outputs\n",
    "outputs3 = np.zeros((x1.shape[0],x2.shape[0]))\n",
    "for i in range(x1.shape[0]):\n",
    "    for j in range(x2.shape[0]):\n",
    "        outputs3[i,j] = f3(x1[i],x2[j])"
   ]
  },
  {
   "cell_type": "markdown",
   "metadata": {},
   "source": [
    "## Plots"
   ]
  },
  {
   "cell_type": "code",
   "execution_count": 56,
   "metadata": {},
   "outputs": [
    {
     "data": {
      "text/plain": [
       "<matplotlib.image.AxesImage at 0x27087393550>"
      ]
     },
     "execution_count": 56,
     "metadata": {},
     "output_type": "execute_result"
    },
    {
     "data": {
      "image/png": "[encoded data removed]",
      "text/plain": [
       "<Figure size 1080x720 with 3 Axes>"
      ]
     },
     "metadata": {
      "needs_background": "light"
     },
     "output_type": "display_data"
    }
   ],
   "source": [
    "# plotting the non-stationary kernel function\n",
    "fig, (ax1,ax2,ax3) = plt.subplots(nrows=1,ncols=3,figsize=(15,10))\n",
    "ax1.set_ylabel(\"x'\",fontsize='xx-large')\n",
    "ax1.set_xlabel('x', fontsize='xx-large')\n",
    "ax2.set_ylabel(\"x'\",fontsize='xx-large')\n",
    "ax2.set_xlabel('x', fontsize='xx-large')\n",
    "ax3.set_ylabel(\"x'\",fontsize='xx-large')\n",
    "ax3.set_xlabel('x', fontsize='xx-large')\n",
    "\n",
    "ax1.imshow(outputs1.reshape(50,50))\n",
    "ax2.imshow(outputs2.reshape(50,50))\n",
    "ax3.imshow(outputs3.reshape(50,50))"
   ]
  }
 ],
 "metadata": {
  "kernelspec": {
   "display_name": "Python 3",
   "language": "python",
   "name": "python3"
  },
  "language_info": {
   "codemirror_mode": {
    "name": "ipython",
    "version": 3
   },
   "file_extension": ".py",
   "mimetype": "text/x-python",
   "name": "python",
   "nbconvert_exporter": "python",
   "pygments_lexer": "ipython3",
   "version": "3.7.3"
  }
 },
 "nbformat": 4,
 "nbformat_minor": 2
}
